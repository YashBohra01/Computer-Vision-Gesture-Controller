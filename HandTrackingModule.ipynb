{
 "cells": [
  {
   "cell_type": "code",
   "execution_count": 1,
   "id": "9c11aebb-1ea7-4b0d-bde0-0edc5cc58064",
   "metadata": {},
   "outputs": [
    {
     "ename": "SyntaxError",
     "evalue": "invalid syntax (79156144.py, line 13)",
     "output_type": "error",
     "traceback": [
      "\u001b[0;36m  File \u001b[0;32m\"/var/folders/78/c2bl08j17gzb0kyymmcv4sq40000gn/T/ipykernel_37240/79156144.py\"\u001b[0;36m, line \u001b[0;32m13\u001b[0m\n\u001b[0;31m    self.mpHands=mp.solutions.hands '''mpHands.hands contains mpHands.hands.Hands in hands.py. hands.py\u001b[0m\n\u001b[0m                                    ^\u001b[0m\n\u001b[0;31mSyntaxError\u001b[0m\u001b[0;31m:\u001b[0m invalid syntax\n"
     ]
    }
   ],
   "source": [
    "import cv2\n",
    "import mediapipe as mp\n",
    "import time\n",
    "\n",
    "class handDetector():\n",
    "    def __init__(self,mode=False,maxHands=2,modelC=0,detectionCon=0.5,trackCon=0.5):\n",
    "        self.mode=mode\n",
    "        self.maxHands=maxHands\n",
    "        self.modelC=modelC\n",
    "        self.detectionCon=detectionCon\n",
    "        self.trackCon=trackCon\n",
    "        \n",
    "        self.mpHands=mp.solutions.hands '''mpHands.hands contains mpHands.hands.Hands in hands.py. hands.py\n",
    "                                            contains HandLandmark class and process() method along with Hands class.\n",
    "                                            Hands class takes img input and returns hand landmarks, world hand landmarks and\n",
    "                                            multi handedness. for this reason, if we only used Hands in self.hands, we would not be \n",
    "                                            able to access hands ka other process() method.'''\n",
    "        self.hands=self.mpHands.Hands(self.mode,self.maxHands,self.modelC,self.detectionCon,self.trackCon)\n",
    "        self.mpDraw=mp.solutions.drawing_utils\n",
    "\n",
    "    def findHands(self, img, draw=True):\n",
    "        imgRGB = cv2.cvtColor(img,cv2.COLOR_BGR2RGB)\n",
    "        self.results = self.hands.process(imgRGB)\n",
    "\n",
    "        if self.results.multi_hand_landmarks:\n",
    "            for handLms in self.results.multi_hand_landmarks:\n",
    "                if draw:\n",
    "                    self.mpDraw.draw_landmarks(img, handLms, self.mpHands.HAND_CONNECTIONS)   \n",
    "        return img\n",
    "    \n",
    "    def findPosition(self,img,handNo=0,draw=True):\n",
    "        lmList=[]\n",
    "        if self.results.multi_hand_landmarks:\n",
    "            myHand=self.results.multi_hand_landmarks[handNo]\n",
    "            for id, lm in enumerate(handLms.landmark):\n",
    "                #print(id,lm)\n",
    "                h,w,c=img.shape\n",
    "                cx,cy=int(lm.x*w),int(lm.y*h)\n",
    "                #print(id,cx,cy)\n",
    "                lmList.append([id,cx,cy])\n",
    "                if draw:\n",
    "                    cv2.circle(img, (cx,cy), 25, (255,0,255), cv2.FILLED)\n",
    "        return lmList\n",
    "        \n",
    "\n",
    "def main():\n",
    "    pTime=0\n",
    "    cTime=0\n",
    "    \n",
    "    cap = cv2.VideoCapture(0)\n",
    "    detector=handDetector() #creating object of handDetector class \n",
    "                            #so as use to use class methods\n",
    "    while True:\n",
    "        success, img=cap.read()\n",
    "        detector.findHands(img)\n",
    "        \n",
    "        #calculating fps\n",
    "        cTime=time.time()\n",
    "        fps=1/(cTime-pTime)\n",
    "        pTime=cTime\n",
    "        #showing fps on screen\n",
    "        cv2.putText(img, str(int(fps)), (10,70), cv2.FONT_HERSHEY_PLAIN, 3, (255,0,255), 3)\n",
    "        cv2.imshow(\"Image\",img)\n",
    "        cv2.waitKey(1) \n",
    "\n",
    "if __name__==\"__main__\":\n",
    "    main()"
   ]
  },
  {
   "cell_type": "code",
   "execution_count": null,
   "id": "eeb74677-48d1-44d2-a6c3-b8b49813ec97",
   "metadata": {},
   "outputs": [],
   "source": []
  }
 ],
 "metadata": {
  "kernelspec": {
   "display_name": "Python 3 (ipykernel)",
   "language": "python",
   "name": "python3"
  },
  "language_info": {
   "codemirror_mode": {
    "name": "ipython",
    "version": 3
   },
   "file_extension": ".py",
   "mimetype": "text/x-python",
   "name": "python",
   "nbconvert_exporter": "python",
   "pygments_lexer": "ipython3",
   "version": "3.9.7"
  },
  "vscode": {
   "interpreter": {
    "hash": "a48ef9ca498286f4f9f277c436be7cb30b75c46261fb07d651f737e4fb219143"
   }
  }
 },
 "nbformat": 4,
 "nbformat_minor": 5
}
